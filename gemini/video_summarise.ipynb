{
 "cells": [
  {
   "cell_type": "code",
   "execution_count": null,
   "metadata": {},
   "outputs": [],
   "source": [
    "from dotenv import load_dotenv\n",
    "load_dotenv()"
   ]
  },
  {
   "cell_type": "code",
   "execution_count": 3,
   "metadata": {},
   "outputs": [
    {
     "name": "stdout",
     "output_type": "stream",
     "text": [
      "Sure, here are the key events in this video:\n",
      "\n",
      "- **0:00:** The video starts with an aerial shot of the London skyline, showing the iconic O2 Arena.\n",
      "- **0:30:** The video moves to a shot of the starting grid for the Formula E race in London.\n",
      "- **0:39:**  The commentator notes that championship leader Sam Bird is only starting 18th on the grid.\n",
      "- **1:00:** The video shows the cars lined up in the pit lane, ready for the start of the race.\n",
      "- **2:30:** The cars begin their race, with Alex Lynn leading the pack.\n",
      "- **2:42:** The commentator points out that the race is taking place both indoors and outdoors.\n",
      "- **3:35:** Alex Lynn leads the race from pole position, with Jake Dennis in second.\n",
      "- **3:43:** Alex Lynn maintains the lead, but there is a crash between Mitch Evans and Alexander Sims, resulting in Sims' retirement.\n",
      "- **4:24:**  The commentator discusses the crash between Sims and Evans, causing a full-course yellow.\n",
      "- **4:51:** The full-course yellow flag is activated, and the race is slowed to 50 km/h.\n",
      "- **5:33:** The full-course yellow ends, and the race resumes.\n",
      "- **6:12:** Sam Bird's car has a rear jack problem, and he is forced to pit.\n",
      "- **6:31:**  There is a crash in turn 4, and the cars are slowed down. \n",
      "- **7:01:** The race is restarted, with Alex Lynn still in the lead.\n",
      "- **7:17:** The cars head out of the Excel Center and back onto the track.\n",
      "- **7:43:** Jean-Éric Vergne and Max Günther serve their drive-through penalties.\n",
      "- **8:33:**  Sam Bird is forced to retire from the race.\n",
      "- **8:36:** The commentator notes that the championship lead is going to come down to the final race in Berlin.\n",
      "- **9:00:** The race continues, with several drivers activating attack mode.\n",
      "- **9:46:** The commentators discuss how the race will be a test of the drivers' ability to overtake.\n",
      "- **9:49:**  Antonio Félix da Costa attempts to overtake, but loses the position to Edoardo Mortara.\n",
      "- **9:55:** The commentators discuss the race conditions, which are difficult due to the lack of sunlight. \n",
      "- **10:00:** The video ends. \n",
      "\n",
      "\n",
      "The key events in the video are the start of the race, the crash between Sims and Evans, the full-course yellow period, the restart, and the drive-through penalties. The race is a close one, and the commentators discuss the drivers' strategies. The video also provides a glimpse of the exciting action of Formula E racing. \n",
      "\n"
     ]
    }
   ],
   "source": [
    "\n",
    "import vertexai\n",
    "from vertexai.generative_models import GenerativeModel, Part\n",
    "\n",
    "import os\n",
    "\n",
    "vertexai.init(project=os.environ.get('PROJECT_ID'), location=\"europe-west2\")\n",
    "\n",
    "model = GenerativeModel(\"gemini-1.5-flash-001\")\n",
    "\n",
    "prompt = \"\"\"\n",
    "Please identify the key events in this video. This should include all important and exciting events in the video.\n",
    "Please include the timestamps of these events in the output. \n",
    "\"\"\"\n",
    "# view at https://storage.googleapis.com/dcsgva-lab-cso-stephen-osulliv/formulae_2021_london_1.mp4\n",
    "video_file_uri = \"gs://dcsgva-lab-cso-stephen-osulliv/formulae_2021_london_1.mp4\"\n",
    "video_file = Part.from_uri(video_file_uri, mime_type=\"video/mp4\")\n",
    "\n",
    "contents = [video_file, prompt]\n",
    "\n",
    "response = model.generate_content(contents)\n",
    "print(response.text)"
   ]
  },
  {
   "cell_type": "code",
   "execution_count": null,
   "metadata": {},
   "outputs": [],
   "source": []
  }
 ],
 "metadata": {
  "kernelspec": {
   "display_name": ".venv",
   "language": "python",
   "name": "python3"
  },
  "language_info": {
   "codemirror_mode": {
    "name": "ipython",
    "version": 3
   },
   "file_extension": ".py",
   "mimetype": "text/x-python",
   "name": "python",
   "nbconvert_exporter": "python",
   "pygments_lexer": "ipython3",
   "version": "3.10.6"
  }
 },
 "nbformat": 4,
 "nbformat_minor": 2
}
