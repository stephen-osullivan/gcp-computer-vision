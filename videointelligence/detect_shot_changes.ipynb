{
 "cells": [
  {
   "cell_type": "code",
   "execution_count": 1,
   "metadata": {},
   "outputs": [],
   "source": [
    "from typing import cast\n",
    "\n",
    "from google.cloud import videointelligence_v1 as vi\n",
    "\n",
    "\n",
    "def detect_shot_changes(video_uri: str) -> vi.VideoAnnotationResults:\n",
    "    video_client = vi.VideoIntelligenceServiceClient()\n",
    "    features = [vi.Feature.SHOT_CHANGE_DETECTION]\n",
    "    request = vi.AnnotateVideoRequest(input_uri=video_uri, features=features)\n",
    "\n",
    "    print(f'Processing video: \"{video_uri}\"...')\n",
    "    operation = video_client.annotate_video(request)\n",
    "\n",
    "    # Wait for operation to complete\n",
    "    response = cast(vi.AnnotateVideoResponse, operation.result())\n",
    "    # A single video is processed\n",
    "    results = response.annotation_results[0]\n",
    "\n",
    "    return results\n"
   ]
  },
  {
   "cell_type": "code",
   "execution_count": 5,
   "id": "87c07712",
   "metadata": {},
   "outputs": [
    {
     "name": "stdout",
     "output_type": "stream",
     "text": [
      "gs://cloud-samples-data/video/JaneGoodall.mp4\n"
     ]
    }
   ],
   "source": [
    "import os\n",
    "bucket_name = 'cloud-samples-data'\n",
    "video_blob_name = 'video/JaneGoodall.mp4'\n",
    "video_uri = os.path.join(\"gs://\", bucket_name,video_blob_name)\n",
    "print(video_uri)"
   ]
  },
  {
   "cell_type": "code",
   "execution_count": 2,
   "id": "b6c28ed4",
   "metadata": {},
   "outputs": [
    {
     "name": "stdout",
     "output_type": "stream",
     "text": [
      "Processing video: \"gs://cloud-samples-data/video/JaneGoodall.mp4\"...\n"
     ]
    }
   ],
   "source": [
    "\n",
    "results = detect_shot_changes(video_uri)"
   ]
  },
  {
   "cell_type": "code",
   "execution_count": 12,
   "id": "5820df0a",
   "metadata": {},
   "outputs": [],
   "source": [
    "def print_video_shots(results: vi.VideoAnnotationResults):\n",
    "    shots = results.shot_annotations\n",
    "    print(f\" Video shots: {len(shots)} \".center(40, \"-\"))\n",
    "    for i, shot in enumerate(shots):\n",
    "        t1 = shot.start_time_offset.total_seconds()\n",
    "        t2 = shot.end_time_offset.total_seconds()\n",
    "        print(f\"{i+1:>3} | {t1:7.3f} | {t2:7.3f}\")\n",
    "    return shots"
   ]
  },
  {
   "cell_type": "code",
   "execution_count": 13,
   "id": "72c659c7",
   "metadata": {},
   "outputs": [
    {
     "name": "stdout",
     "output_type": "stream",
     "text": [
      "----------- Video shots: 34 ------------\n",
      "  1 |   0.000 |  12.880\n",
      "  2 |  12.920 |  21.680\n",
      "  3 |  21.720 |  27.880\n",
      "  4 |  27.920 |  31.800\n",
      "  5 |  31.840 |  34.720\n",
      "  6 |  34.760 |  37.000\n",
      "  7 |  37.040 |  39.520\n",
      "  8 |  39.560 |  45.200\n",
      "  9 |  45.240 |  49.960\n",
      " 10 |  50.000 |  54.960\n",
      " 11 |  55.000 |  58.000\n",
      " 12 |  58.040 |  64.880\n",
      " 13 |  64.920 |  71.840\n",
      " 14 |  71.880 |  79.000\n",
      " 15 |  79.040 |  84.560\n",
      " 16 |  84.600 |  91.280\n",
      " 17 |  91.320 |  95.800\n",
      " 18 |  95.840 |  98.720\n",
      " 19 |  98.760 | 101.720\n",
      " 20 | 101.760 | 105.080\n",
      " 21 | 105.120 | 108.320\n",
      " 22 | 108.360 | 111.080\n",
      " 23 | 111.120 | 113.560\n",
      " 24 | 113.600 | 117.480\n",
      " 25 | 117.520 | 120.000\n",
      " 26 | 120.040 | 123.560\n",
      " 27 | 123.600 | 126.080\n",
      " 28 | 126.120 | 128.000\n",
      " 29 | 128.040 | 131.600\n",
      " 30 | 131.640 | 132.960\n",
      " 31 | 133.000 | 135.120\n",
      " 32 | 135.160 | 138.320\n",
      " 33 | 138.360 | 146.200\n",
      " 34 | 146.240 | 162.520\n"
     ]
    }
   ],
   "source": [
    "shots = print_video_shots(results)"
   ]
  },
  {
   "cell_type": "code",
   "execution_count": 21,
   "id": "8eca9afd",
   "metadata": {},
   "outputs": [
    {
     "name": "stdout",
     "output_type": "stream",
     "text": [
      "fps=25.0, duration=162.56\n"
     ]
    }
   ],
   "source": [
    "from google.cloud import storage\n",
    "import tempfile\n",
    "import cv2\n",
    "\n",
    "# Set up GCS client\n",
    "client = storage.Client()\n",
    "\n",
    "# Specify your bucket and video file\n",
    "\n",
    "# Get the bucket and blob\n",
    "bucket = client.get_bucket(bucket_name)\n",
    "blob = bucket.blob(video_blob_name)\n",
    "\n",
    "# Download to a temporary file\n",
    "with tempfile.NamedTemporaryFile(delete=False) as temp_file:\n",
    "    blob.download_to_file(temp_file)\n",
    "    temp_file_path = temp_file.name\n",
    "\n",
    "# Play the video using OpenCV\n",
    "cap = cv2.VideoCapture(temp_file_path)\n",
    "fps = cap.get(cv2.CAP_PROP_FPS)\n",
    "# Get the total number of frames\n",
    "total_frames = int(cap.get(cv2.CAP_PROP_FRAME_COUNT))\n",
    "# Calculate duration in seconds\n",
    "duration = total_frames / fps\n",
    "print(f\"{fps=}, {duration=}\")"
   ]
  },
  {
   "cell_type": "code",
   "execution_count": 22,
   "id": "dd963fb2",
   "metadata": {},
   "outputs": [],
   "source": [
    "\n",
    "shot_times = [shot.end_time_offset.total_seconds() for shot in shots]"
   ]
  },
  {
   "cell_type": "code",
   "execution_count": 23,
   "id": "84f1c4cf",
   "metadata": {},
   "outputs": [],
   "source": [
    "shot_idx = 0\n",
    "elapsed_time = 0\n",
    "caption = 'Shot: 0'\n",
    "\n",
    "while cap.isOpened():\n",
    "    ret, frame = cap.read()\n",
    "    if not ret:\n",
    "        break\n",
    "    if elapsed_time > shot_times[shot_idx]:\n",
    "        shot_idx += 1\n",
    "        caption = 'Shot: {idx}'\n",
    "    cv2.putText(frame, caption, (10, 50), cv2.FONT_HERSHEY_SIMPLEX, 1, (255, 255, 255), 2, cv2.LINE_AA)\n",
    "    cv2.imshow('Video', frame)\n",
    "    \n",
    "    # if q is pressed during the 40ms wait then break the loop\n",
    "    if cv2.waitKey(40) & 0xFF == ord('q'):\n",
    "        break\n",
    "    elapsed_time += 0.0040\n",
    "    \n",
    "cap.release()\n",
    "cv2.destroyAllWindows()"
   ]
  },
  {
   "cell_type": "code",
   "execution_count": null,
   "id": "b1ab5a22",
   "metadata": {},
   "outputs": [],
   "source": []
  }
 ],
 "metadata": {
  "kernelspec": {
   "display_name": ".venv",
   "language": "python",
   "name": "python3"
  },
  "language_info": {
   "codemirror_mode": {
    "name": "ipython",
    "version": 3
   },
   "file_extension": ".py",
   "mimetype": "text/x-python",
   "name": "python",
   "nbconvert_exporter": "python",
   "pygments_lexer": "ipython3",
   "version": "3.10.6"
  }
 },
 "nbformat": 4,
 "nbformat_minor": 5
}
